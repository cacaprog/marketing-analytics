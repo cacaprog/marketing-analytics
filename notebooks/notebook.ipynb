{
 "cells": [
  {
   "cell_type": "code",
   "execution_count": 1,
   "metadata": {},
   "outputs": [],
   "source": [
    "import pandas as pd\n",
    "import numpy as np\n",
    "import matplotlib.pyplot as plt\n",
    "import seaborn as sns"
   ]
  },
  {
   "cell_type": "code",
   "execution_count": 2,
   "metadata": {},
   "outputs": [],
   "source": [
    "# Dataframes\n",
    "df_ads = pd.read_csv('/home/marketing-analytics/datasets/advertising.csv')\n",
    "df_email = pd.read_csv('/home/marketing-analytics/datasets/email_campaigns.csv')\n",
    "df_crm = pd.read_csv('/home/marketing-analytics/datasets/crm.csv')\n",
    "df_social_media = pd.read_csv('/home/marketing-analytics/datasets/social_media.csv')\n",
    "df_web_analytics = pd.read_csv('/home/marketing-analytics/datasets/website_analytics.csv')"
   ]
  },
  {
   "cell_type": "code",
   "execution_count": 3,
   "metadata": {},
   "outputs": [
    {
     "name": "stdout",
     "output_type": "stream",
     "text": [
      "<class 'pandas.core.frame.DataFrame'>\n",
      "RangeIndex: 102050 entries, 0 to 102049\n",
      "Data columns (total 7 columns):\n",
      " #   Column       Non-Null Count   Dtype  \n",
      "---  ------       --------------   -----  \n",
      " 0   ad_id        102050 non-null  object \n",
      " 1   platform     96925 non-null   object \n",
      " 2   date         102050 non-null  object \n",
      " 3   impressions  102050 non-null  int64  \n",
      " 4   clicks       102050 non-null  int64  \n",
      " 5   cost_usd     102050 non-null  float64\n",
      " 6   conversions  102050 non-null  int64  \n",
      "dtypes: float64(1), int64(3), object(3)\n",
      "memory usage: 5.5+ MB\n"
     ]
    }
   ],
   "source": [
    "df_ads.info()"
   ]
  },
  {
   "cell_type": "markdown",
   "metadata": {},
   "source": [
    "'date' convert to 'timedate'"
   ]
  },
  {
   "cell_type": "code",
   "execution_count": 4,
   "metadata": {},
   "outputs": [
    {
     "name": "stdout",
     "output_type": "stream",
     "text": [
      "<class 'pandas.core.frame.DataFrame'>\n",
      "RangeIndex: 1030 entries, 0 to 1029\n",
      "Data columns (total 14 columns):\n",
      " #   Column             Non-Null Count  Dtype \n",
      "---  ------             --------------  ----- \n",
      " 0   campaign_id        1030 non-null   object\n",
      " 1   campaign_name      1030 non-null   object\n",
      " 2   date_sent          1030 non-null   object\n",
      " 3   subject_line       977 non-null    object\n",
      " 4   platform           984 non-null    object\n",
      " 5   country            1030 non-null   object\n",
      " 6   recipient_count    1030 non-null   int64 \n",
      " 7   delivered_count    1030 non-null   int64 \n",
      " 8   opened_count       1030 non-null   int64 \n",
      " 9   clicked_count      1030 non-null   int64 \n",
      " 10  bounced_count      1030 non-null   int64 \n",
      " 11  unsubscribe_count  1030 non-null   int64 \n",
      " 12  spam_report_count  1030 non-null   int64 \n",
      " 13  conversions        1030 non-null   int64 \n",
      "dtypes: int64(8), object(6)\n",
      "memory usage: 112.8+ KB\n"
     ]
    }
   ],
   "source": [
    "df_email.info()"
   ]
  },
  {
   "cell_type": "code",
   "execution_count": 5,
   "metadata": {},
   "outputs": [
    {
     "name": "stdout",
     "output_type": "stream",
     "text": [
      "<class 'pandas.core.frame.DataFrame'>\n",
      "RangeIndex: 1040 entries, 0 to 1039\n",
      "Data columns (total 20 columns):\n",
      " #   Column                  Non-Null Count  Dtype  \n",
      "---  ------                  --------------  -----  \n",
      " 0   customer_id             1040 non-null   object \n",
      " 1   first_name              1040 non-null   object \n",
      " 2   last_name               1040 non-null   object \n",
      " 3   email                   1040 non-null   object \n",
      " 4   phone_number            977 non-null    object \n",
      " 5   address                 1040 non-null   object \n",
      " 6   city                    1040 non-null   object \n",
      " 7   state                   1040 non-null   object \n",
      " 8   country                 1040 non-null   object \n",
      " 9   zip_code                1040 non-null   int64  \n",
      " 10  signup_date             1040 non-null   object \n",
      " 11  last_purchase_date      1040 non-null   object \n",
      " 12  total_purchases         1040 non-null   int64  \n",
      " 13  total_spent             1040 non-null   float64\n",
      " 14  loyalty_program_member  1040 non-null   object \n",
      " 15  customer_segment        1040 non-null   object \n",
      " 16  preferred_channel       751 non-null    object \n",
      " 17  feedback_score          1040 non-null   int64  \n",
      " 18  support_tickets_opened  1040 non-null   int64  \n",
      " 19  churn_risk              1040 non-null   object \n",
      "dtypes: float64(1), int64(4), object(15)\n",
      "memory usage: 162.6+ KB\n"
     ]
    }
   ],
   "source": [
    "df_crm.info()"
   ]
  },
  {
   "cell_type": "code",
   "execution_count": 6,
   "metadata": {},
   "outputs": [
    {
     "name": "stdout",
     "output_type": "stream",
     "text": [
      "<class 'pandas.core.frame.DataFrame'>\n",
      "RangeIndex: 321 entries, 0 to 320\n",
      "Data columns (total 15 columns):\n",
      " #   Column               Non-Null Count  Dtype  \n",
      "---  ------               --------------  -----  \n",
      " 0   post_id              321 non-null    object \n",
      " 1   platform             321 non-null    object \n",
      " 2   content_type         321 non-null    object \n",
      " 3   content_theme        310 non-null    object \n",
      " 4   date_posted          321 non-null    object \n",
      " 5   organic_impressions  321 non-null    int64  \n",
      " 6   paid_impressions     321 non-null    int64  \n",
      " 7   organic_engagements  321 non-null    int64  \n",
      " 8   paid_engagements     321 non-null    int64  \n",
      " 9   clicks               321 non-null    int64  \n",
      " 10  reach                321 non-null    int64  \n",
      " 11  followers_gain       321 non-null    int64  \n",
      " 12  conversions          321 non-null    int64  \n",
      " 13  sentiment_score      309 non-null    float64\n",
      " 14  country              165 non-null    object \n",
      "dtypes: float64(1), int64(8), object(6)\n",
      "memory usage: 37.7+ KB\n"
     ]
    }
   ],
   "source": [
    "df_social_media.info()"
   ]
  },
  {
   "cell_type": "code",
   "execution_count": 7,
   "metadata": {},
   "outputs": [
    {
     "name": "stdout",
     "output_type": "stream",
     "text": [
      "<class 'pandas.core.frame.DataFrame'>\n",
      "RangeIndex: 112 entries, 0 to 111\n",
      "Data columns (total 10 columns):\n",
      " #   Column                    Non-Null Count  Dtype  \n",
      "---  ------                    --------------  -----  \n",
      " 0   date                      112 non-null    object \n",
      " 1   page_views                112 non-null    int64  \n",
      " 2   unique_visitors           112 non-null    int64  \n",
      " 3   sessions                  112 non-null    int64  \n",
      " 4   bounce_rate               112 non-null    float64\n",
      " 5   average_session_duration  112 non-null    int64  \n",
      " 6   traffic_source            103 non-null    object \n",
      " 7   device_type               108 non-null    object \n",
      " 8   country                   112 non-null    object \n",
      " 9   conversions               112 non-null    int64  \n",
      "dtypes: float64(1), int64(5), object(4)\n",
      "memory usage: 8.9+ KB\n"
     ]
    }
   ],
   "source": [
    "df_web_analytics.info()"
   ]
  },
  {
   "cell_type": "markdown",
   "metadata": {},
   "source": [
    "Need answers:\n",
    "- Merge and clean after or clean first then merge?"
   ]
  },
  {
   "cell_type": "markdown",
   "metadata": {},
   "source": []
  },
  {
   "cell_type": "code",
   "execution_count": null,
   "metadata": {},
   "outputs": [],
   "source": [
    "# Merge CRM and Email data\n",
    "merged_data = pd.merge(df_email, df_crm, on='customer_id', how='left')\n",
    "merged_data.head()"
   ]
  },
  {
   "cell_type": "code",
   "execution_count": null,
   "metadata": {},
   "outputs": [],
   "source": [
    "merged_data.info()"
   ]
  },
  {
   "cell_type": "code",
   "execution_count": null,
   "metadata": {},
   "outputs": [],
   "source": [
    "# We have null values?\n",
    "merged_data.isna().sum()"
   ]
  },
  {
   "cell_type": "code",
   "execution_count": null,
   "metadata": {},
   "outputs": [],
   "source": [
    "# We have duplicated values?\n",
    "merged_data.duplicated().value_counts()"
   ]
  },
  {
   "cell_type": "code",
   "execution_count": 12,
   "metadata": {},
   "outputs": [],
   "source": [
    "# Removing duplicates\n",
    "merged_data = merged_data.drop_duplicates()"
   ]
  },
  {
   "cell_type": "code",
   "execution_count": 13,
   "metadata": {},
   "outputs": [],
   "source": [
    "# Handling Missing Values\n",
    "merged_data.fillna({'email_opened': 'Unknown'}, inplace=True)\n",
    "merged_data.fillna({'email_clicked': 'False'}, inplace=True)\n",
    "merged_data.fillna({'conversion': 'False'}, inplace=True)\n",
    "merged_data.fillna({'email': 'Unknown'}, inplace=True)\n",
    "merged_data.fillna({'gender': 'Unknown'}, inplace=True)\n",
    "merged_data.fillna({'age': merged_data['age'].median()}, inplace=True)\n",
    "merged_data.fillna({'country': 'Unknown'}, inplace=True)"
   ]
  },
  {
   "cell_type": "code",
   "execution_count": null,
   "metadata": {},
   "outputs": [],
   "source": [
    "merged_data.isna().sum()"
   ]
  },
  {
   "cell_type": "code",
   "execution_count": null,
   "metadata": {},
   "outputs": [],
   "source": [
    "merged_data.info()"
   ]
  },
  {
   "cell_type": "code",
   "execution_count": null,
   "metadata": {},
   "outputs": [],
   "source": [
    "merged_data['age'].describe()"
   ]
  },
  {
   "cell_type": "code",
   "execution_count": 17,
   "metadata": {},
   "outputs": [],
   "source": [
    "# Fix 'signup_date' and 'timestamp' formatting\n",
    "merged_data['signup_date'] = pd.to_datetime(merged_data['signup_date'], errors='coerce')\n",
    "merged_data['timestamp'] = pd.to_datetime(merged_data['timestamp'], errors='coerce')"
   ]
  },
  {
   "cell_type": "code",
   "execution_count": null,
   "metadata": {},
   "outputs": [],
   "source": [
    "merged_data.info()"
   ]
  },
  {
   "cell_type": "code",
   "execution_count": null,
   "metadata": {},
   "outputs": [],
   "source": [
    "merged_data.describe(include='all').T"
   ]
  },
  {
   "cell_type": "code",
   "execution_count": null,
   "metadata": {},
   "outputs": [],
   "source": [
    "merged_data['age'].describe()"
   ]
  },
  {
   "cell_type": "markdown",
   "metadata": {},
   "source": [
    "suspicious data:\n",
    "- Min age -5?\n",
    "- Max age 150?"
   ]
  },
  {
   "cell_type": "code",
   "execution_count": null,
   "metadata": {},
   "outputs": [],
   "source": [
    "merged_data = merged_data[(merged_data['age'] >= 18) & (merged_data['age'] <= 120)]\n",
    "merged_data['age'].describe()"
   ]
  },
  {
   "cell_type": "code",
   "execution_count": null,
   "metadata": {},
   "outputs": [],
   "source": [
    "merged_data['gender'].value_counts()"
   ]
  },
  {
   "cell_type": "code",
   "execution_count": 23,
   "metadata": {},
   "outputs": [],
   "source": [
    "# Standardize Case and Strip Whitespaces\n",
    "merged_data['gender'] = merged_data['gender'].astype(str).str.strip().str.lower()"
   ]
  },
  {
   "cell_type": "code",
   "execution_count": 24,
   "metadata": {},
   "outputs": [],
   "source": [
    "gender_mapping = {\n",
    "    'm': 'Male',\n",
    "    'male': 'Male',\n",
    "    'f': 'Female',\n",
    "    'female': 'Female',\n",
    "    'unknown': 'Unknown',\n",
    "    'other': 'Other'\n",
    "}\n",
    "\n",
    "merged_data['gender'] = merged_data['gender'].map(gender_mapping)"
   ]
  },
  {
   "cell_type": "code",
   "execution_count": null,
   "metadata": {},
   "outputs": [],
   "source": [
    "merged_data['gender'].value_counts()"
   ]
  },
  {
   "cell_type": "code",
   "execution_count": null,
   "metadata": {},
   "outputs": [],
   "source": [
    "merged_data['gender'].isna().value_counts()"
   ]
  },
  {
   "cell_type": "code",
   "execution_count": null,
   "metadata": {},
   "outputs": [],
   "source": [
    "merged_data['timestamp'].describe()"
   ]
  },
  {
   "cell_type": "code",
   "execution_count": null,
   "metadata": {},
   "outputs": [],
   "source": [
    "merged_data['timestamp'].isna().value_counts(normalize=True)"
   ]
  },
  {
   "cell_type": "code",
   "execution_count": null,
   "metadata": {},
   "outputs": [],
   "source": [
    "merged_data['signup_date'].isna().value_counts(normalize=True)"
   ]
  },
  {
   "cell_type": "markdown",
   "metadata": {},
   "source": [
    "- Less than 10% of rows"
   ]
  },
  {
   "cell_type": "code",
   "execution_count": 30,
   "metadata": {},
   "outputs": [],
   "source": [
    "# Drop rows with invalid dates\n",
    "merged_data = merged_data.dropna(subset=['signup_date', 'timestamp'])"
   ]
  },
  {
   "cell_type": "code",
   "execution_count": null,
   "metadata": {},
   "outputs": [],
   "source": [
    "merged_data.describe()"
   ]
  },
  {
   "cell_type": "markdown",
   "metadata": {},
   "source": [
    "### Ads"
   ]
  },
  {
   "cell_type": "code",
   "execution_count": 130,
   "metadata": {},
   "outputs": [],
   "source": [
    "#df_ads = pd.read_csv('/home/marketing-analytics/datasets/advertising.csv')\n",
    "df_ads = pd.read_csv('/home/marketing-analytics/datasets/advertising_metrics.csv')"
   ]
  },
  {
   "cell_type": "code",
   "execution_count": null,
   "metadata": {},
   "outputs": [],
   "source": [
    "df_ads.info()"
   ]
  },
  {
   "cell_type": "code",
   "execution_count": null,
   "metadata": {},
   "outputs": [],
   "source": [
    "df_ads.head()"
   ]
  },
  {
   "cell_type": "code",
   "execution_count": null,
   "metadata": {},
   "outputs": [],
   "source": [
    "df_ads.describe(include='all').T"
   ]
  },
  {
   "cell_type": "code",
   "execution_count": null,
   "metadata": {},
   "outputs": [],
   "source": [
    "df_ads['platform'].value_counts()"
   ]
  },
  {
   "cell_type": "code",
   "execution_count": 135,
   "metadata": {},
   "outputs": [],
   "source": [
    "# Standardize Case and Strip Whitespaces\n",
    "df_ads['platform'] = df_ads['platform'].astype(str).str.strip().str.lower()"
   ]
  },
  {
   "cell_type": "code",
   "execution_count": null,
   "metadata": {},
   "outputs": [],
   "source": [
    "df_ads['platform'].value_counts()"
   ]
  },
  {
   "cell_type": "code",
   "execution_count": 137,
   "metadata": {},
   "outputs": [],
   "source": [
    "platform_mapping = {\n",
    "    'instagram ads': 'Instagram',\n",
    "    'linkedin ads': 'Linkedin',\n",
    "    'fb ads': 'Facebook',\n",
    "    'google ads': 'Google',\n",
    "    'gads': 'Google',\n",
    "    'insta ads': 'Instagram',\n",
    "    'facebook ads': 'Facebook'\n",
    "}\n",
    "\n",
    "df_ads['platform'] = df_ads['platform'].map(platform_mapping)"
   ]
  },
  {
   "cell_type": "code",
   "execution_count": null,
   "metadata": {},
   "outputs": [],
   "source": [
    "df_ads['platform'].value_counts()"
   ]
  },
  {
   "cell_type": "code",
   "execution_count": null,
   "metadata": {},
   "outputs": [],
   "source": [
    "df_ads.info()"
   ]
  },
  {
   "cell_type": "code",
   "execution_count": 140,
   "metadata": {},
   "outputs": [],
   "source": [
    "df_ads['date'] = pd.to_datetime(df_ads['date'], errors='coerce')"
   ]
  },
  {
   "cell_type": "code",
   "execution_count": null,
   "metadata": {},
   "outputs": [],
   "source": [
    "df_ads.info()"
   ]
  },
  {
   "cell_type": "code",
   "execution_count": null,
   "metadata": {},
   "outputs": [],
   "source": [
    "df_ads['platform'].isna().value_counts(normalize=True)"
   ]
  },
  {
   "cell_type": "code",
   "execution_count": null,
   "metadata": {},
   "outputs": [],
   "source": [
    "df_ads['date'].isna().value_counts(normalize=True)"
   ]
  },
  {
   "cell_type": "code",
   "execution_count": 160,
   "metadata": {},
   "outputs": [],
   "source": [
    "df_ads = df_ads.dropna()"
   ]
  },
  {
   "cell_type": "code",
   "execution_count": null,
   "metadata": {},
   "outputs": [],
   "source": [
    "df_ads.describe(include='all').T"
   ]
  },
  {
   "cell_type": "code",
   "execution_count": null,
   "metadata": {},
   "outputs": [],
   "source": [
    "sns.barplot(data=df_ads)\n",
    "plt.show()"
   ]
  },
  {
   "cell_type": "code",
   "execution_count": null,
   "metadata": {},
   "outputs": [],
   "source": [
    "df_ads.duplicated().value_counts(normalize=True)"
   ]
  },
  {
   "cell_type": "code",
   "execution_count": 148,
   "metadata": {},
   "outputs": [],
   "source": [
    "# Drop duplicates\n",
    "df_ads = df_ads.drop_duplicates()"
   ]
  },
  {
   "cell_type": "code",
   "execution_count": null,
   "metadata": {},
   "outputs": [],
   "source": [
    "sns.catplot(df_ads)\n",
    "plt.show()"
   ]
  },
  {
   "cell_type": "code",
   "execution_count": 150,
   "metadata": {},
   "outputs": [],
   "source": [
    "# Remove negative values\n",
    "numeric_cols = ['impressions', 'clicks', 'cost_usd', 'conversions']\n",
    "for col in numeric_cols:\n",
    "    df_ads = df_ads[df_ads[col] >= 0]"
   ]
  },
  {
   "cell_type": "code",
   "execution_count": null,
   "metadata": {},
   "outputs": [],
   "source": [
    "fig, axes = plt.subplots(2, 2, figsize=(10, 8))\n",
    "\n",
    "axes = axes.flatten()\n",
    "\n",
    "for i, column in enumerate(numeric_cols):\n",
    "    df_ads[[column]].boxplot(ax=axes[i])\n",
    "    axes[i].set_title(column)\n",
    "\n",
    "plt.tight_layout()\n",
    "plt.show()"
   ]
  },
  {
   "cell_type": "code",
   "execution_count": null,
   "metadata": {},
   "outputs": [],
   "source": [
    "df_ads.describe()"
   ]
  },
  {
   "cell_type": "code",
   "execution_count": null,
   "metadata": {},
   "outputs": [],
   "source": [
    "df_ads.info()"
   ]
  },
  {
   "cell_type": "code",
   "execution_count": 154,
   "metadata": {},
   "outputs": [],
   "source": [
    "#Q1 = df_ads[numeric_cols].quantile(0.25)\n",
    "#Q3 = df_ads[numeric_cols].quantile(0.75)\n",
    "#IQR = Q3 - Q1"
   ]
  },
  {
   "cell_type": "code",
   "execution_count": null,
   "metadata": {},
   "outputs": [],
   "source": [
    "#IQR"
   ]
  },
  {
   "cell_type": "code",
   "execution_count": 156,
   "metadata": {},
   "outputs": [],
   "source": [
    "# Align DataFrame and quantile values to ensure they match in shape\n",
    "#aligned_df, aligned_Q1 = df_ads.align(Q1, axis=1, copy=False)\n",
    "#_, aligned_Q3 = df_ads.align(Q3, axis=1, copy=False)\n",
    "#_, aligned_IQR = df_ads.align(IQR, axis=1, copy=False)\n",
    "#\n",
    "## Filtering out the outliers\n",
    "#filtered_df = aligned_df[~((aligned_df < (aligned_Q1 - 1.5 * aligned_IQR)) | (aligned_df > (aligned_Q3 + 1.5 * aligned_IQR))).any(axis=1)]\n",
    "#\n",
    "#filtered_df.head()"
   ]
  },
  {
   "cell_type": "code",
   "execution_count": 157,
   "metadata": {},
   "outputs": [],
   "source": [
    "#filtered_df.describe()"
   ]
  },
  {
   "cell_type": "code",
   "execution_count": 158,
   "metadata": {},
   "outputs": [],
   "source": [
    "#fig, axes = plt.subplots(2, 2, figsize=(10, 8))\n",
    "#\n",
    "#axes = axes.flatten()\n",
    "#\n",
    "#for i, column in enumerate(numeric_cols):\n",
    "#    filtered_df[[column]].boxplot(ax=axes[i])\n",
    "#    axes[i].set_title(column)\n",
    "#\n",
    "#plt.tight_layout()\n",
    "#plt.show()"
   ]
  },
  {
   "cell_type": "code",
   "execution_count": null,
   "metadata": {},
   "outputs": [],
   "source": [
    "import matplotlib.dates as mdates\n",
    "\n",
    "# Parse 'date' column to datetime\n",
    "df_ads['date'] = pd.to_datetime(df_ads['date'], dayfirst=True, errors='coerce')\n",
    "\n",
    "# Drop rows with invalid dates\n",
    "df_ads = df_ads.dropna(subset=['date'])\n",
    "\n",
    "# Sort the DataFrame by date\n",
    "df_ads = df_ads.sort_values('date')\n",
    "\n",
    "# Set 'date' as the index\n",
    "df_ads.set_index('date', inplace=True)\n",
    "\n",
    "# Define numeric columns\n",
    "numeric_cols = ['impressions', 'clicks', 'cost_usd', 'conversions']\n",
    "\n",
    "# Create subplots with enhanced figure size\n",
    "fig, axes = plt.subplots(2, 2, figsize=(18, 12))\n",
    "axes = axes.flatten()\n",
    "\n",
    "# Define a color palette for consistency\n",
    "palette = sns.color_palette(\"tab10\", len(numeric_cols))\n",
    "\n",
    "for i, column in enumerate(numeric_cols):\n",
    "    ax = axes[i]\n",
    "    \n",
    "    # Apply rolling average for smoothing (e.g., 7-day rolling average)\n",
    "    rolling_window = 7\n",
    "    df_ads[f'{column}_rolling'] = df_ads[column].rolling(window=rolling_window).mean()\n",
    "    \n",
    "    # Plot original data with low alpha for visibility\n",
    "    df_ads[column].plot(ax=ax, label='Daily', alpha=0.3, color=palette[i])\n",
    "    \n",
    "    # Plot rolling average\n",
    "    df_ads[f'{column}_rolling'].plot(ax=ax, label=f'{rolling_window}-Day Rolling Avg', linewidth=2, color=palette[i])\n",
    "    \n",
    "    # Set title and labels\n",
    "    ax.set_title(f\"{column.capitalize()} Over Time\", fontsize=16)\n",
    "    ax.set_xlabel(\"Date\", fontsize=14)\n",
    "    ax.set_ylabel(column.capitalize(), fontsize=14)\n",
    "    \n",
    "    # Improve x-axis date formatting\n",
    "    ax.xaxis.set_major_locator(mdates.WeekdayLocator(interval=2))  # Every 2 weeks\n",
    "    ax.xaxis.set_major_formatter(mdates.DateFormatter('%Y-%m-%d'))\n",
    "    \n",
    "    # Rotate x-axis labels for better readability\n",
    "    plt.setp(ax.get_xticklabels(), rotation=45, ha='right')\n",
    "    \n",
    "    # Add grid\n",
    "    ax.grid(True, linestyle='--', alpha=0.5)\n",
    "    \n",
    "    # Add legend\n",
    "    ax.legend()\n",
    "\n",
    "# Adjust layout for better spacing\n",
    "plt.tight_layout()\n",
    "\n",
    "# Display the plots\n",
    "plt.show()\n"
   ]
  },
  {
   "cell_type": "code",
   "execution_count": null,
   "metadata": {},
   "outputs": [],
   "source": [
    "# Set the plotting style\n",
    "sns.set(style=\"whitegrid\")\n",
    "\n",
    "# Define the numeric columns\n",
    "numeric_cols = ['impressions', 'clicks', 'cost_usd', 'conversions']\n",
    "\n",
    "# Create subplots\n",
    "fig, axes = plt.subplots(2, 2, figsize=(16, 12))\n",
    "axes = axes.flatten()\n",
    "\n",
    "for i, column in enumerate(numeric_cols):\n",
    "    sns.boxplot(y=df_ads[column], ax=axes[i], color='skyblue')\n",
    "    axes[i].set_title(f'Boxplot of {column.capitalize()}', fontsize=16)\n",
    "    axes[i].set_ylabel(column.capitalize(), fontsize=14)\n",
    "    axes[i].grid(True, linestyle='--', alpha=0.5)\n",
    "\n",
    "plt.tight_layout()\n",
    "plt.show()\n"
   ]
  },
  {
   "cell_type": "code",
   "execution_count": null,
   "metadata": {},
   "outputs": [],
   "source": [
    "# Identify unique platforms\n",
    "unique_platforms = df_ads['platform'].unique()\n",
    "\n",
    "# To avoid overcrowding, if there are too many platforms, consider selecting the top N platforms\n",
    "# For example, top 5 platforms by frequency\n",
    "top_platforms = df_ads['platform'].value_counts().nlargest(5).index.tolist()\n",
    "\n",
    "# Filter the DataFrame to include only top platforms\n",
    "df_top_platforms = df_ads[df_ads['platform'].isin(top_platforms)]\n",
    "\n",
    "# Create subplots\n",
    "fig, axes = plt.subplots(2, 2, figsize=(20, 16))\n",
    "axes = axes.flatten()\n",
    "\n",
    "for i, column in enumerate(numeric_cols):\n",
    "    sns.boxplot(x='platform', y=column, data=df_top_platforms, ax=axes[i], palette=\"Set3\")\n",
    "    axes[i].set_title(f'Boxplot of {column.capitalize()} by Platform', fontsize=16)\n",
    "    axes[i].set_xlabel('Platform', fontsize=14)\n",
    "    axes[i].set_ylabel(column.capitalize(), fontsize=14)\n",
    "    axes[i].tick_params(axis='x', rotation=45)\n",
    "    axes[i].grid(True, linestyle='--', alpha=0.5)\n",
    "\n",
    "plt.tight_layout()\n",
    "plt.show()\n"
   ]
  },
  {
   "cell_type": "code",
   "execution_count": null,
   "metadata": {},
   "outputs": [],
   "source": [
    "### **B. Boxplots by Platform**\n",
    "\n",
    "# Identify unique platforms and select top 5\n",
    "top_platforms = df_ads['platform'].value_counts().nlargest(5).index.tolist()\n",
    "\n",
    "# Filter the DataFrame\n",
    "df_top_platforms = df_ads[df_ads['platform'].isin(top_platforms)]\n",
    "\n",
    "# Create subplots\n",
    "fig, axes = plt.subplots(2, 2, figsize=(20, 16))\n",
    "axes = axes.flatten()\n",
    "\n",
    "for i, column in enumerate(numeric_cols):\n",
    "    sns.boxplot(y=df_ads[column], ax=axes[i], color='skyblue')\n",
    "    axes[i].set_yscale('log')  # Apply log scale\n",
    "    axes[i].set_title(f'Boxplot of {column.capitalize()} (Log Scale)', fontsize=16)\n",
    "    axes[i].set_ylabel(column.capitalize(), fontsize=14)\n",
    "    axes[i].grid(True, linestyle='--', alpha=0.5)\n",
    "\n",
    "\n",
    "plt.tight_layout()\n",
    "plt.show()"
   ]
  },
  {
   "cell_type": "markdown",
   "metadata": {},
   "source": [
    "### Website analytics"
   ]
  },
  {
   "cell_type": "markdown",
   "metadata": {},
   "source": []
  }
 ],
 "metadata": {
  "kernelspec": {
   "display_name": "marketing-analytics-uQXf7Hmg",
   "language": "python",
   "name": "python3"
  },
  "language_info": {
   "codemirror_mode": {
    "name": "ipython",
    "version": 3
   },
   "file_extension": ".py",
   "mimetype": "text/x-python",
   "name": "python",
   "nbconvert_exporter": "python",
   "pygments_lexer": "ipython3",
   "version": "3.11.6"
  }
 },
 "nbformat": 4,
 "nbformat_minor": 2
}
